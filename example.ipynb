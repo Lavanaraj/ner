{
 "cells": [
  {
   "cell_type": "code",
   "execution_count": 1,
   "metadata": {},
   "outputs": [
    {
     "name": "stderr",
     "output_type": "stream",
     "text": [
      "/cephfs/home/jesus/env/lib/python3.6/importlib/_bootstrap.py:219: RuntimeWarning: compiletime version 3.5 of module 'tensorflow.python.framework.fast_tensor_util' does not match runtime version 3.6\n",
      "  return f(*args, **kwds)\n",
      "/cephfs/home/jesus/env/lib/python3.6/site-packages/h5py/__init__.py:36: FutureWarning: Conversion of the second argument of issubdtype from `float` to `np.floating` is deprecated. In future, it will be treated as `np.float64 == np.dtype(float).type`.\n",
      "  from ._conv import register_converters as _register_converters\n"
     ]
    },
    {
     "name": "stdout",
     "output_type": "stream",
     "text": [
      "Downloading from http://lnsigo.mipt.ru/export/models/ner/ne5.tar.gz to ./ne5.tar.gz\n"
     ]
    },
    {
     "name": "stderr",
     "output_type": "stream",
     "text": [
      "100%|██████████| 47.1M/47.1M [00:03<00:00, 12.5MB/s]\n"
     ]
    },
    {
     "name": "stdout",
     "output_type": "stream",
     "text": [
      "Extracting ./ne5.tar.gz archive into .\n",
      "\n"
     ]
    },
    {
     "name": "stderr",
     "output_type": "stream",
     "text": [
      "/cephfs/home/jesus/env/lib/python3.6/site-packages/tensorflow/python/ops/gradients_impl.py:96: UserWarning: Converting sparse IndexedSlices to a dense Tensor of unknown shape. This may consume a large amount of memory.\n",
      "  \"Converting sparse IndexedSlices to a dense Tensor of unknown shape. \"\n"
     ]
    },
    {
     "name": "stdout",
     "output_type": "stream",
     "text": [
      "INFO:tensorflow:Restoring parameters from model/ner_model.ckpt\n"
     ]
    }
   ],
   "source": [
    "from ner.network import NER\n",
    "from ner.corpus import Corpus\n",
    "import json\n",
    "from ner.utils import md5_hashsum, download_untar\n",
    "from glob import glob\n",
    "\n",
    "\n",
    "# Check existance of the model by hashsum\n",
    "# Download and extract model\n",
    "download_url = 'http://lnsigo.mipt.ru/export/models/ner/ne5.tar.gz'\n",
    "download_path = '.'\n",
    "download_untar(download_url, download_path)\n",
    "\n",
    "# Load network params\n",
    "with open('model/params.json') as f:\n",
    "    network_params = json.load(f)\n",
    "\n",
    "\n",
    "corpus = Corpus(dicts_filepath='model/dict.txt')\n",
    "\n",
    "network = NER(corpus, verbouse=False, pretrained_model_filepath='model/ner_model.ckpt', **network_params)"
   ]
  },
  {
   "cell_type": "code",
   "execution_count": 37,
   "metadata": {},
   "outputs": [
    {
     "name": "stdout",
     "output_type": "stream",
     "text": [
      "\u001b[34mПроисшествия\u001b[0m \u001b[34m,\u001b[0m \u001b[34m''\u001b[0m \u001b[34mПри\u001b[0m \u001b[34mпожаре\u001b[0m \u001b[34mв\u001b[0m \u001b[34mавтосервисе\u001b[0m \u001b[34mна\u001b[0m \u001b[34mсеверо-востоке\u001b[0m \u001b[34mМосквы\u001b[0m \u001b[34mпогиб\u001b[0m \u001b[34mчеловек\u001b[0m \u001b[34m.\u001b[0m \u001b[34mОб\u001b[0m \u001b[34mэтом\u001b[0m \u001b[34mво\u001b[0m \u001b[34mвторник\u001b[0m \u001b[34m,\u001b[0m \u001b[34m28\u001b[0m \u001b[34mмарта\u001b[0m \u001b[34m,\u001b[0m \u001b[34mсообщает\u001b[0m \u001b[34mтелеканал\u001b[0m \u001b[34m«\u001b[0m \u001b[34m360\u001b[0m \u001b[34m»\u001b[0m \u001b[34mсо\u001b[0m \u001b[34mссылкой\u001b[0m \u001b[34mна\u001b[0m \u001b[34mисточник\u001b[0m \u001b[34mв\u001b[0m \u001b[34mэкстренных\u001b[0m \u001b[34mслужбах\u001b[0m \u001b[34m.\u001b[0m \u001b[33mПожар\u001b[0m \u001b[34mпроизошел\u001b[0m \u001b[34mна\u001b[0m \u001b[34mулице\u001b[0m \u001b[31mПлещеева\u001b[0m \u001b[34m.\u001b[0m \u001b[34mПламя\u001b[0m \u001b[34mраспространилось\u001b[0m \u001b[34mна\u001b[0m \u001b[34mплощади\u001b[0m \u001b[34m100\u001b[0m \u001b[34mквадратных\u001b[0m \u001b[34mметров\u001b[0m \u001b[34m.\u001b[0m \u001b[34mПо\u001b[0m \u001b[34mинформации\u001b[0m \u001b[34mсетевого\u001b[0m \u001b[34mиздания\u001b[0m \u001b[34mm24.ru\u001b[0m \u001b[34m,\u001b[0m \u001b[34mзагорелись\u001b[0m \u001b[34mпеределанные\u001b[0m \u001b[34mпод\u001b[0m \u001b[34mмастерские\u001b[0m \u001b[34mгаражные\u001b[0m \u001b[34mбоксы\u001b[0m \u001b[34m,\u001b[0m \u001b[34mв\u001b[0m \u001b[34mкоторых\u001b[0m \u001b[34mстояли\u001b[0m \u001b[34mгазовые\u001b[0m \u001b[34mбаллоны\u001b[0m \u001b[34m.\u001b[0m \u001b[34mСпасателям\u001b[0m \u001b[34mудалось\u001b[0m \u001b[34mпредотвратить\u001b[0m \u001b[34mвзрыв\u001b[0m \u001b[34m—\u001b[0m \u001b[34mбаллоны\u001b[0m \u001b[34mбыстро\u001b[0m \u001b[34mвытащили\u001b[0m \u001b[34mиз\u001b[0m \u001b[34mпостроек\u001b[0m \u001b[34m.\u001b[0m \u001b[34mПосле\u001b[0m \u001b[34mэтого\u001b[0m \u001b[34mвозгорание\u001b[0m \u001b[34mбыло\u001b[0m \u001b[34mликвидировано\u001b[0m \u001b[34m.\u001b[0m \u001b[34mВ\u001b[0m \u001b[34mсвязи\u001b[0m \u001b[34mс\u001b[0m \u001b[34mгибелью\u001b[0m \u001b[34mмужчины\u001b[0m \u001b[34mпроводится\u001b[0m \u001b[34mпроверка\u001b[0m \u001b[34m,\u001b[0m \u001b[34mсообщается\u001b[0m \u001b[34mна\u001b[0m \u001b[34mсайте\u001b[0m \u001b[34mГлавного\u001b[0m \u001b[34mследственного\u001b[0m \u001b[34mуправления\u001b[0m \u001b[34mСледственного\u001b[0m \u001b[34mкомитета\u001b[0m \u001b[34mпо\u001b[0m \u001b[34mМоскве\u001b[0m \u001b[34m.\u001b[0m \u001b[34mДля\u001b[0m \u001b[34mопределения\u001b[0m \u001b[34mточной\u001b[0m \u001b[34mпричины\u001b[0m \u001b[34mвозгорания\u001b[0m \u001b[34mназначена\u001b[0m \u001b[34mпожарно-техническая\u001b[0m \u001b[34mэкспертиза\u001b[0m \u001b[34m.\u001b[0m \u001b[34m``\u001b[0m \u001b[34m,\u001b[0m \u001b[34mПри\u001b[0m \u001b[34mпожаре\u001b[0m \u001b[34mв\u001b[0m \u001b[34mмосковском\u001b[0m \u001b[34mавтосервисе\u001b[0m \u001b[34mпогиб\u001b[0m \u001b[34mчеловек\u001b[0m \u001b[34m,\u001b[0m \u001b[34mРоссия\u001b[0m \u001b[34m,\u001b[0m \u001b[34mhttps\u001b[0m \u001b[34m:\u001b[0m \u001b[34m//lenta.ru/news/2017/03/28/pozharvavtoservise/\u001b[0m \u001b[34mПолитика\u001b[0m \u001b[34m,\u001b[0m \u001b[34m''\u001b[0m \u001b[34mПрезидент\u001b[0m \u001b[34mСША\u001b[0m \u001b[31mДональд\u001b[0m \u001b[31mТрамп\u001b[0m \u001b[34mпримет\u001b[0m \u001b[34mучастие\u001b[0m \u001b[34mв\u001b[0m \u001b[34mсаммите\u001b[0m \u001b[31mG\u001b[0m \u001b[34m20\u001b[0m \u001b[34mв\u001b[0m \u001b[34mнемецком\u001b[0m \u001b[33mГамбурге\u001b[0m \u001b[34m.\u001b[0m \u001b[34mОб\u001b[0m \u001b[34mэтом\u001b[0m \u001b[34mсообщает\u001b[0m \u001b[34mReuters\u001b[0m \u001b[34mсо\u001b[0m \u001b[34mссылкой\u001b[0m \u001b[34mна\u001b[0m \u001b[34mзаявление\u001b[0m \u001b[34mпресс-службы\u001b[0m \u001b[34mБелого\u001b[0m \u001b[34mдома\u001b[0m \u001b[34m.\u001b[0m \u001b[34mАмериканский\u001b[0m \u001b[34mлидер\u001b[0m \u001b[34mподтвердил\u001b[0m \u001b[34mсвое\u001b[0m \u001b[34mучастие\u001b[0m \u001b[34mво\u001b[0m \u001b[34mвстрече\u001b[0m \u001b[34mво\u001b[0m \u001b[34mвремя\u001b[0m \u001b[34mтелефонного\u001b[0m \u001b[34mразговора\u001b[0m \u001b[34mс\u001b[0m \u001b[34mканцлером\u001b[0m \u001b[34mФРГ\u001b[0m \u001b[31mАнгелой\u001b[0m \u001b[31mМеркель\u001b[0m \u001b[34m.\u001b[0m \u001b[34mОн\u001b[0m \u001b[34mтакже\u001b[0m \u001b[34mпоздравил\u001b[0m \u001b[34mполитика\u001b[0m \u001b[34mс\u001b[0m \u001b[34mпобедой\u001b[0m \u001b[34mее\u001b[0m \u001b[34mпартии\u001b[0m \u001b[34mна\u001b[0m \u001b[34mрегиональных\u001b[0m \u001b[34mвыборах\u001b[0m \u001b[34mв\u001b[0m \u001b[34mфедеральной\u001b[0m \u001b[34mземле\u001b[0m \u001b[31mСаар\u001b[0m \u001b[34m.\u001b[0m \u001b[34m12\u001b[0m \u001b[34mмарта\u001b[0m \u001b[34mофициальный\u001b[0m \u001b[34mпредставитель\u001b[0m \u001b[34mКремля\u001b[0m \u001b[31mДмитрий\u001b[0m \u001b[31mПесков\u001b[0m \u001b[34mв\u001b[0m \u001b[34mинтервью\u001b[0m \u001b[34mтелеканалу\u001b[0m \u001b[34mCNN\u001b[0m \u001b[34mсообщил\u001b[0m \u001b[34m,\u001b[0m \u001b[34mчто\u001b[0m \u001b[34mсаммит\u001b[0m \u001b[34m«\u001b[0m \u001b[34mБольшой\u001b[0m \u001b[34mдвадцатки\u001b[0m \u001b[34m»\u001b[0m \u001b[34mв\u001b[0m \u001b[34mГамбурге\u001b[0m \u001b[34mможет\u001b[0m \u001b[34mстать\u001b[0m \u001b[34mместом\u001b[0m \u001b[34mпервой\u001b[0m \u001b[34mвстречи\u001b[0m \u001b[34mмежду\u001b[0m \u001b[34mпрезидентами\u001b[0m \u001b[34mРоссии\u001b[0m \u001b[34mи\u001b[0m \u001b[34mСША\u001b[0m \u001b[31mВладимиром\u001b[0m \u001b[31mПутиным\u001b[0m \u001b[34mи\u001b[0m \u001b[31mДональдом\u001b[0m \u001b[31mТрампом\u001b[0m \u001b[34m.\u001b[0m \u001b[34m«\u001b[0m \u001b[34mПредположительно\u001b[0m \u001b[34m,\u001b[0m \u001b[34mмы\u001b[0m \u001b[34mможем\u001b[0m \u001b[34mожидать\u001b[0m \u001b[34m,\u001b[0m \u001b[34mчто\u001b[0m \u001b[34mони\u001b[0m \u001b[34mвстретятся\u001b[0m \u001b[34mна\u001b[0m \u001b[34mсаммите\u001b[0m \u001b[34mG20\u001b[0m \u001b[34mв\u001b[0m \u001b[34mГамбурге\u001b[0m \u001b[34mв\u001b[0m \u001b[34mначале\u001b[0m \u001b[34mиюля\u001b[0m \u001b[34m.\u001b[0m \u001b[34mПотому\u001b[0m \u001b[34mчто\u001b[0m \u001b[34mэто\u001b[0m \u001b[34mбудет\u001b[0m \u001b[34mпервое\u001b[0m \u001b[34mместо\u001b[0m \u001b[34m,\u001b[0m \u001b[34mгде\u001b[0m \u001b[34mони\u001b[0m \u001b[34mбудут\u001b[0m \u001b[34mодновременно\u001b[0m \u001b[34mнаходиться\u001b[0m \u001b[34m»\u001b[0m \u001b[34m,\u001b[0m \u001b[34m—\u001b[0m \u001b[34mсказал\u001b[0m \u001b[31mпресс-секретарь\u001b[0m \u001b[31mПутина\u001b[0m \u001b[34m.\u001b[0m \u001b[34mПо\u001b[0m \u001b[34mсловам\u001b[0m \u001b[31mПескова\u001b[0m \u001b[34m,\u001b[0m \u001b[34m«\u001b[0m \u001b[34mчто\u001b[0m \u001b[34mдействительно\u001b[0m \u001b[34mважно\u001b[0m \u001b[34m,\u001b[0m \u001b[34mтак\u001b[0m \u001b[34mэто\u001b[0m \u001b[34mто\u001b[0m \u001b[34m,\u001b[0m \u001b[34mчто\u001b[0m \u001b[34mони\u001b[0m \u001b[34mсядут\u001b[0m \u001b[34mлицом\u001b[0m \u001b[34mк\u001b[0m \u001b[34mлицу\u001b[0m \u001b[34mи\u001b[0m \u001b[34mбудут\u001b[0m \u001b[34mговорить\u001b[0m \u001b[34m»\u001b[0m \u001b[34m.\u001b[0m \u001b[34m``\u001b[0m \u001b[34m,\u001b[0m \u001b[33mТрамп\u001b[0m \u001b[34mпоедет\u001b[0m \u001b[34mна\u001b[0m \u001b[34mсаммит\u001b[0m \u001b[33mG20\u001b[0m \u001b[34mв\u001b[0m \u001b[34mГамбурге\u001b[0m\n"
     ]
    }
   ],
   "source": [
    "from termcolor import colored\n",
    "\n",
    "\n",
    "s = \"\"\"Происшествия , '' При пожаре в автосервисе на северо-востоке Москвы погиб человек . Об этом во вторник , 28 марта , сообщает телеканал « 360 » со ссылкой на источник в экстренных службах . Пожар произошел на улице Плещеева . Пламя распространилось на площади 100 квадратных метров . По информации сетевого издания m24.ru , загорелись переделанные под мастерские гаражные боксы , в которых стояли газовые баллоны . Спасателям удалось предотвратить взрыв — баллоны быстро вытащили из построек . После этого возгорание было ликвидировано . В связи с гибелью мужчины проводится проверка , сообщается на сайте Главного следственного управления Следственного комитета по Москве . Для определения точной причины возгорания назначена пожарно-техническая экспертиза . `` , При пожаре в московском автосервисе погиб человек , Россия , https : //lenta.ru/news/2017/03/28/pozharvavtoservise/\n",
    "Политика , '' Президент США Дональд Трамп примет участие в саммите G 20 в немецком Гамбурге . Об этом сообщает Reuters со ссылкой на заявление пресс-службы Белого дома . Американский лидер подтвердил свое участие во встрече во время телефонного разговора с канцлером ФРГ Ангелой Меркель . Он также поздравил политика с победой ее партии на региональных выборах в федеральной земле Саар . 12 марта официальный представитель Кремля Дмитрий Песков в интервью телеканалу CNN сообщил , что саммит « Большой двадцатки » в Гамбурге может стать местом первой встречи между президентами России и США Владимиром Путиным и Дональдом Трампом . « Предположительно , мы можем ожидать , что они встретятся на саммите G20 в Гамбурге в начале июля . Потому что это будет первое место , где они будут одновременно находиться » , — сказал пресс-секретарь Путина . По словам Пескова , « что действительно важно , так это то , что они сядут лицом к лицу и будут говорить » . `` , Трамп поедет на саммит G20 в Гамбурге\"\"\"\n",
    "tokens = s.split()\n",
    "h, p_batch = network.get_hiddens_and_probs([tokens], 'PER')\n",
    "\n",
    "def colormap(p):\n",
    "    if p > 0.5:\n",
    "        return 'red'\n",
    "    if p > 0.1:\n",
    "        return 'yellow'\n",
    "    else:\n",
    "        return 'blue'\n",
    "\n",
    "print(*[colored(token, colormap(p )) for token, p in zip(tokens, p_batch[0])])"
   ]
  },
  {
   "cell_type": "code",
   "execution_count": null,
   "metadata": {},
   "outputs": [],
   "source": []
  },
  {
   "cell_type": "code",
   "execution_count": null,
   "metadata": {},
   "outputs": [],
   "source": []
  },
  {
   "cell_type": "code",
   "execution_count": null,
   "metadata": {},
   "outputs": [],
   "source": []
  },
  {
   "cell_type": "code",
   "execution_count": null,
   "metadata": {},
   "outputs": [],
   "source": []
  }
 ],
 "metadata": {
  "kernelspec": {
   "display_name": "Python 3",
   "language": "python",
   "name": "python3"
  },
  "language_info": {
   "codemirror_mode": {
    "name": "ipython",
    "version": 3
   },
   "file_extension": ".py",
   "mimetype": "text/x-python",
   "name": "python",
   "nbconvert_exporter": "python",
   "pygments_lexer": "ipython3",
   "version": "3.6.3"
  }
 },
 "nbformat": 4,
 "nbformat_minor": 2
}
